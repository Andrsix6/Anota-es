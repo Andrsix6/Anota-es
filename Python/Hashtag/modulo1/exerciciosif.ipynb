vendas_funcionario1 = 1000
vendas_funcionario2 = 770
vendas_funcionario3 = 2700

#crie seu código aqui
if vendas_funcionario1 >= 1000:
    print("O funcionário 1 ganhou {} de bônus".format(vendas_funcionario1 * 0.1))

if vendas_funcionario2 >= 1000:
    bonus = vendas_funcionario2 * 0.1
else:
    bonus = 0
print("O funcionário 2 ganhou {} de bônus".format(bonus))

if vendas_funcionario3>= 1000:
    bonus = vendas_funcionario3 * 0.1     
else:
    bonus = 0
print("O funcionário 3 ganhou {} de bônus".format(bonus))

----------------------------------------------------------------------------------------------------------

#crie seu código aqui
#obs: há 2 formas de fazer, com if dentro de if ou então com if e elif. Escolha o que você preferir

if vendas_funcionario1 >= 1000:
    if vendas_funcionario1 >= 2000:
        bonus = 0.15 * vendas_funcionario1
    else:
        bonus = 0.1 * vendas_funcionario1
else:
    bonus = 0
print("O funcionário 1 ganhou {} de bônus".format(bonus))

#2° maneira -> if e elif
if vendas_funcionario2 >= 2000:
    bonus = 0.15 * vendas_funcionario2
elif vendas_funcionario2 >= 1000:
    bonus = 0.1 * vendas_funcionario2
else:
    bonus = 0
    print("O funcionário 2 ganhou {} de bônus".format(bonus))

if vendas_funcionario3 >= 1000:
    if vendas_funcionario3 >= 2000:
        bonus = 0.15 * vendas_funcionario3
    else:
        bonus = 0.1 * vendas_funcionario3
else:
    bonus = 0
print("O funcionário 3 ganhou {} de bônus".format(bonus))
